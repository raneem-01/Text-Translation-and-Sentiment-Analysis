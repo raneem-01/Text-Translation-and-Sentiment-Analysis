{
 "cells": [
  {
   "cell_type": "markdown",
   "metadata": {},
   "source": [
    "# Text Translation and Sentiment Analysis using Transformers"
   ]
  },
  {
   "cell_type": "markdown",
   "metadata": {},
   "source": [
    "## Project Overview:\n",
    "\n",
    "The objective of this project is to analyze the sentiment of movie reviews in three different languages - English, French, and Spanish. We have been given 30 movies, 10 in each language, along with their reviews and synopses in separate CSV files named `movie_reviews_eng.csv`, `movie_reviews_fr.csv`, and `movie_reviews_sp.csv`.\n",
    "\n",
    "- The first step of this project is to convert the French and Spanish reviews and synopses into English. This will allow us to analyze the sentiment of all reviews in the same language. We will be using pre-trained transformers from HuggingFace to achieve this task.\n",
    "\n",
    "- Once the translations are complete, we will create a single dataframe that contains all the movies along with their reviews, synopses, and year of release in all three languages. This dataframe will be used to perform sentiment analysis on the reviews of each movie.\n",
    "\n",
    "- Finally, we will use pretrained transformers from HuggingFace to analyze the sentiment of each review. The sentiment analysis results will be added to the dataframe. The final dataframe will have 30 rows\n",
    "\n",
    "\n",
    "The output of the project will be a CSV file with a header row that includes column names such as **Title**, **Year**, **Synopsis**, **Review**, **Review Sentiment**, and **Original Language**. The **Original Language** column will indicate the language of the review and synopsis (*en/fr/sp*) before translation. The dataframe will consist of 30 rows, with each row corresponding to a movie."
   ]
  },
  {
   "cell_type": "code",
   "execution_count": 1,
   "metadata": {},
   "outputs": [
    {
     "name": "stderr",
     "output_type": "stream",
     "text": [
      "/opt/venv/lib/python3.10/site-packages/tqdm/auto.py:21: TqdmWarning: IProgress not found. Please update jupyter and ipywidgets. See https://ipywidgets.readthedocs.io/en/stable/user_install.html\n",
      "  from .autonotebook import tqdm as notebook_tqdm\n"
     ]
    }
   ],
   "source": [
    "# imports\n",
    "import pandas as pd\n",
    "from transformers import MarianMTModel, MarianTokenizer\n",
    "from transformers import pipeline"
   ]
  },
  {
   "cell_type": "markdown",
   "metadata": {},
   "source": [
    "### Get data from `.csv` files and then preprocess data"
   ]
  },
  {
   "cell_type": "code",
   "execution_count": 2,
   "metadata": {},
   "outputs": [],
   "source": [
    "# use the `pd.read_csv()` function to read the movie_review_*.csv files into 3 separate pandas dataframes\n",
    "# Note: All the dataframes would have different column names. For testing purposes\n",
    "# you should have the following column names/headers -> [Title, Year, Synopsis, Review]\n",
    "def preprocess_data() -> pd.DataFrame:\n",
    "    \"\"\"\n",
    "    Reads movie data from .csv files, map column names, add the \"Original Language\" column,\n",
    "    and finally concatenate in one resultant dataframe called \"df\".\n",
    "    \"\"\"\n",
    "    df_eng = pd.read_csv(\"data/movie_reviews_eng.csv\")\n",
    "    #TODO 1: Add your code here\n",
    "    df_fr = pd.read_csv(\"data/movie_reviews_fr.csv\")\n",
    "    df_sp = pd.read_csv(\"data/movie_reviews_sp.csv\")\n",
    "    \n",
    "    df_eng.rename(columns={'Movie / TV Series': 'Title'}, inplace=True)\n",
    "    df_eng['Original Language'] = 'en'\n",
    "    \n",
    "    df_fr.rename(columns={'Titre': 'Title','Année': 'Year','Critiques': 'Review'}, inplace=True)\n",
    "    df_fr['Original Language'] = 'fr'\n",
    "\n",
    "    df_sp.rename(columns={'Título': 'Title','Año': 'Year','Sinopsis': 'Synopsis','Críticas': 'Review'}, inplace=True)\n",
    "    df_sp['Original Language'] = 'es'\n",
    "\n",
    "    df = pd.concat([df_eng, df_fr, df_sp], ignore_index=True)\n",
    "\n",
    "    return df\n",
    "\n",
    "df = preprocess_data()"
   ]
  },
  {
   "cell_type": "code",
   "execution_count": 3,
   "metadata": {},
   "outputs": [
    {
     "data": {
      "text/html": [
       "<div>\n",
       "<style scoped>\n",
       "    .dataframe tbody tr th:only-of-type {\n",
       "        vertical-align: middle;\n",
       "    }\n",
       "\n",
       "    .dataframe tbody tr th {\n",
       "        vertical-align: top;\n",
       "    }\n",
       "\n",
       "    .dataframe thead th {\n",
       "        text-align: right;\n",
       "    }\n",
       "</style>\n",
       "<table border=\"1\" class=\"dataframe\">\n",
       "  <thead>\n",
       "    <tr style=\"text-align: right;\">\n",
       "      <th></th>\n",
       "      <th>Title</th>\n",
       "      <th>Year</th>\n",
       "      <th>Synopsis</th>\n",
       "      <th>Review</th>\n",
       "      <th>Original Language</th>\n",
       "    </tr>\n",
       "  </thead>\n",
       "  <tbody>\n",
       "    <tr>\n",
       "      <th>4</th>\n",
       "      <td>Inception</td>\n",
       "      <td>2010</td>\n",
       "      <td>Dom Cobb (Leonardo DiCaprio) is a skilled thie...</td>\n",
       "      <td>\"Inception is a mind-bending and visually stun...</td>\n",
       "      <td>en</td>\n",
       "    </tr>\n",
       "    <tr>\n",
       "      <th>9</th>\n",
       "      <td>The Island</td>\n",
       "      <td>2005</td>\n",
       "      <td>In a future where people are cloned for organ ...</td>\n",
       "      <td>\"The Island is a bland and forgettable sci-fi ...</td>\n",
       "      <td>en</td>\n",
       "    </tr>\n",
       "    <tr>\n",
       "      <th>23</th>\n",
       "      <td>El Laberinto del Fauno</td>\n",
       "      <td>2006</td>\n",
       "      <td>Durante la posguerra española, Ofelia (Ivana B...</td>\n",
       "      <td>\"El Laberinto del Fauno es una película fascin...</td>\n",
       "      <td>es</td>\n",
       "    </tr>\n",
       "    <tr>\n",
       "      <th>26</th>\n",
       "      <td>Toc Toc</td>\n",
       "      <td>2017</td>\n",
       "      <td>En esta comedia española, un grupo de personas...</td>\n",
       "      <td>\"Toc Toc es una película aburrida y poco origi...</td>\n",
       "      <td>es</td>\n",
       "    </tr>\n",
       "    <tr>\n",
       "      <th>29</th>\n",
       "      <td>El Incidente</td>\n",
       "      <td>2014</td>\n",
       "      <td>En esta película de terror mexicana, un grupo ...</td>\n",
       "      <td>\"El Incidente es una película aburrida y sin s...</td>\n",
       "      <td>es</td>\n",
       "    </tr>\n",
       "    <tr>\n",
       "      <th>10</th>\n",
       "      <td>La La Land</td>\n",
       "      <td>2016</td>\n",
       "      <td>Cette comédie musicale raconte l'histoire d'un...</td>\n",
       "      <td>\"La La Land est un film absolument magnifique ...</td>\n",
       "      <td>fr</td>\n",
       "    </tr>\n",
       "    <tr>\n",
       "      <th>25</th>\n",
       "      <td>Águila Roja</td>\n",
       "      <td>(2009-2016)</td>\n",
       "      <td>Esta serie de televisión española sigue las av...</td>\n",
       "      <td>\"Águila Roja es una serie aburrida y poco inte...</td>\n",
       "      <td>es</td>\n",
       "    </tr>\n",
       "    <tr>\n",
       "      <th>14</th>\n",
       "      <td>Le Fabuleux Destin d'Amélie Poulain</td>\n",
       "      <td>2001</td>\n",
       "      <td>Cette comédie romantique raconte l'histoire d'...</td>\n",
       "      <td>\"Le Fabuleux Destin d'Amélie Poulain est un fi...</td>\n",
       "      <td>fr</td>\n",
       "    </tr>\n",
       "    <tr>\n",
       "      <th>22</th>\n",
       "      <td>Y tu mamá también</td>\n",
       "      <td>2001</td>\n",
       "      <td>Dos amigos adolescentes (Gael García Bernal y ...</td>\n",
       "      <td>\"Y tu mamá también es una película que se qued...</td>\n",
       "      <td>es</td>\n",
       "    </tr>\n",
       "    <tr>\n",
       "      <th>27</th>\n",
       "      <td>El Bar</td>\n",
       "      <td>2017</td>\n",
       "      <td>Un grupo de personas quedan atrapadas en un ba...</td>\n",
       "      <td>\"El Bar es una película ridícula y sin sentido...</td>\n",
       "      <td>es</td>\n",
       "    </tr>\n",
       "  </tbody>\n",
       "</table>\n",
       "</div>"
      ],
      "text/plain": [
       "                                  Title         Year  \\\n",
       "4                             Inception         2010   \n",
       "9                            The Island         2005   \n",
       "23               El Laberinto del Fauno         2006   \n",
       "26                              Toc Toc         2017   \n",
       "29                         El Incidente         2014   \n",
       "10                           La La Land         2016   \n",
       "25                         Águila Roja   (2009-2016)   \n",
       "14  Le Fabuleux Destin d'Amélie Poulain         2001   \n",
       "22                    Y tu mamá también         2001   \n",
       "27                               El Bar         2017   \n",
       "\n",
       "                                             Synopsis  \\\n",
       "4   Dom Cobb (Leonardo DiCaprio) is a skilled thie...   \n",
       "9   In a future where people are cloned for organ ...   \n",
       "23  Durante la posguerra española, Ofelia (Ivana B...   \n",
       "26  En esta comedia española, un grupo de personas...   \n",
       "29  En esta película de terror mexicana, un grupo ...   \n",
       "10  Cette comédie musicale raconte l'histoire d'un...   \n",
       "25  Esta serie de televisión española sigue las av...   \n",
       "14  Cette comédie romantique raconte l'histoire d'...   \n",
       "22  Dos amigos adolescentes (Gael García Bernal y ...   \n",
       "27  Un grupo de personas quedan atrapadas en un ba...   \n",
       "\n",
       "                                               Review Original Language  \n",
       "4   \"Inception is a mind-bending and visually stun...                en  \n",
       "9   \"The Island is a bland and forgettable sci-fi ...                en  \n",
       "23  \"El Laberinto del Fauno es una película fascin...                es  \n",
       "26  \"Toc Toc es una película aburrida y poco origi...                es  \n",
       "29  \"El Incidente es una película aburrida y sin s...                es  \n",
       "10  \"La La Land est un film absolument magnifique ...                fr  \n",
       "25  \"Águila Roja es una serie aburrida y poco inte...                es  \n",
       "14  \"Le Fabuleux Destin d'Amélie Poulain est un fi...                fr  \n",
       "22  \"Y tu mamá también es una película que se qued...                es  \n",
       "27  \"El Bar es una película ridícula y sin sentido...                es  "
      ]
     },
     "execution_count": 3,
     "metadata": {},
     "output_type": "execute_result"
    }
   ],
   "source": [
    "df.sample(10)"
   ]
  },
  {
   "cell_type": "markdown",
   "metadata": {},
   "source": [
    "### Text translation\n",
    "\n",
    "Translate the **Review** and **Synopsis** column values to English."
   ]
  },
  {
   "cell_type": "code",
   "execution_count": 4,
   "metadata": {},
   "outputs": [
    {
     "name": "stderr",
     "output_type": "stream",
     "text": [
      "Downloading source.spm: 100%|██████████| 802k/802k [00:00<00:00, 10.4MB/s]\n",
      "Downloading target.spm: 100%|██████████| 778k/778k [00:00<00:00, 32.1MB/s]\n",
      "Downloading vocab.json: 100%|██████████| 1.34M/1.34M [00:00<00:00, 38.0MB/s]\n",
      "Downloading tokenizer_config.json: 100%|██████████| 42.0/42.0 [00:00<00:00, 202kB/s]\n",
      "Downloading config.json: 100%|██████████| 1.42k/1.42k [00:00<00:00, 7.76MB/s]\n",
      "/opt/venv/lib/python3.10/site-packages/transformers/models/marian/tokenization_marian.py:194: UserWarning: Recommended: pip install sacremoses.\n",
      "  warnings.warn(\"Recommended: pip install sacremoses.\")\n",
      "Downloading source.spm: 100%|██████████| 826k/826k [00:00<00:00, 33.4MB/s]\n",
      "Downloading target.spm: 100%|██████████| 802k/802k [00:00<00:00, 50.3MB/s]\n",
      "Downloading vocab.json: 100%|██████████| 1.59M/1.59M [00:00<00:00, 45.2MB/s]\n",
      "Downloading tokenizer_config.json: 100%|██████████| 44.0/44.0 [00:00<00:00, 190kB/s]\n",
      "Downloading config.json: 100%|██████████| 1.44k/1.44k [00:00<00:00, 6.97MB/s]\n",
      "Downloading pytorch_model.bin: 100%|██████████| 301M/301M [00:01<00:00, 188MB/s]  \n",
      "Downloading generation_config.json: 100%|██████████| 293/293 [00:00<00:00, 1.56MB/s]\n",
      "Downloading pytorch_model.bin: 100%|██████████| 312M/312M [00:01<00:00, 191MB/s] \n",
      "Downloading generation_config.json: 100%|██████████| 293/293 [00:00<00:00, 1.72MB/s]\n"
     ]
    }
   ],
   "source": [
    "# load translation models and tokenizers\n",
    "# TODO 2: Update the code below\n",
    "fr_en_model_name = \"Helsinki-NLP/opus-mt-fr-en\"\n",
    "es_en_model_name = \"Helsinki-NLP/opus-mt-es-en\"\n",
    "fr_en_tokenizer = MarianTokenizer.from_pretrained(fr_en_model_name)\n",
    "es_en_tokenizer = MarianTokenizer.from_pretrained(es_en_model_name)\n",
    "fr_en_model = MarianMTModel.from_pretrained(fr_en_model_name)\n",
    "es_en_model = MarianMTModel.from_pretrained(es_en_model_name)\n",
    "\n",
    "# TODO 3: Complete the function below\n",
    "def translate(text: str, model, tokenizer) -> str:\n",
    "    \"\"\"\n",
    "    function to translate a text using a model and tokenizer\n",
    "    \"\"\"\n",
    "    # encode the text using the tokenizer\n",
    "    inputs = tokenizer(text, return_tensors=\"pt\")\n",
    "\n",
    "    # generate the translation using the model\n",
    "    outputs = model.generate(**inputs)\n",
    "\n",
    "    # decode the generated output and return the translated text\n",
    "    decoded = tokenizer.decode(outputs[0], skip_special_tokens=True)\n",
    "    return decoded"
   ]
  },
  {
   "cell_type": "code",
   "execution_count": null,
   "metadata": {},
   "outputs": [
    {
     "name": "stderr",
     "output_type": "stream",
     "text": [
      "/opt/venv/lib/python3.10/site-packages/transformers/generation/utils.py:1288: UserWarning: Using `max_length`'s default (512) to control the generation length. This behaviour is deprecated and will be removed from the config in v5 of Transformers -- we recommend using `max_new_tokens` to control the maximum length of the generation.\n",
      "  warnings.warn(\n"
     ]
    }
   ],
   "source": [
    "# TODO 4: Update the code below\n",
    "\n",
    "# filter reviews in French and translate to English\n",
    "fr_reviews = df[df['Original Language'] == 'fr']['Review']\n",
    "fr_reviews_en = fr_reviews.apply(lambda i: translate(i, fr_en_model, fr_en_tokenizer))\n",
    "\n",
    "# filter synopsis in French and translate to English\n",
    "fr_synopsis = df[df['Original Language'] == 'fr']['Synopsis']\n",
    "fr_synopsis_en = fr_synopsis.apply(lambda i: translate(i, fr_en_model, fr_en_tokenizer))\n",
    "\n",
    "# filter reviews in Spanish and translate to English\n",
    "es_reviews = df[df['Original Language'] == 'es']['Review']\n",
    "es_reviews_en = es_reviews.apply(lambda i: translate(i, es_en_model, es_en_tokenizer))\n",
    "\n",
    "# filter synopsis in Spanish and translate to English\n",
    "es_synopsis = df[df['Original Language'] == 'es']['Synopsis']\n",
    "es_synopsis_en = es_synopsis.apply(lambda i: translate(i, es_en_model, es_en_tokenizer))\n",
    "\n",
    "# update dataframe with translated text\n",
    "# add the translated reviews and synopsis - you can overwrite the existing data\n",
    "df.loc[df['Original Language'] == 'fr', 'Review'] = fr_reviews_en\n",
    "df.loc[df['Original Language'] == 'fr', 'Synopsis'] = fr_synopsis_en\n",
    "df.loc[df['Original Language'] == 'es', 'Review'] = es_reviews_en\n",
    "df.loc[df['Original Language'] == 'es', 'Synopsis'] = es_synopsis_en\n"
   ]
  },
  {
   "cell_type": "code",
   "execution_count": null,
   "metadata": {},
   "outputs": [],
   "source": [
    "df.sample(10)"
   ]
  },
  {
   "cell_type": "markdown",
   "metadata": {},
   "source": [
    "### Sentiment Analysis\n",
    "\n",
    "Use HuggingFace pretrained model for sentiment analysis of the reviews. Store the sentiment result **Positive** or **Negative** in a new column titled **Sentiment** in the dataframe."
   ]
  },
  {
   "cell_type": "code",
   "execution_count": null,
   "metadata": {},
   "outputs": [],
   "source": [
    "# TODO 5: Update the code below\n",
    "# load sentiment analysis model\n",
    "model_name = \"distilbert-base-uncased\"\n",
    "sentiment_classifier = pipeline(\"sentiment-analysis\", model=model_name)\n",
    "\n",
    "# TODO 6: Complete the function below\n",
    "def analyze_sentiment(text, classifier):\n",
    "    \"\"\"\n",
    "    function to perform sentiment analysis on a text using a model\n",
    "    \"\"\"\n",
    "    sentiment_result = classifier(text)\n",
    "    \n",
    "    if sentiment_result[0]['label'] == 'LABEL_1':\n",
    "        sentiment_label = 'NEGATIVE'\n",
    "    elif sentiment_result[0]['label'] == 'LABEL_2':\n",
    "        sentiment_label = 'POSITIVE'\n",
    "    else:\n",
    "        sentiment_label = \"UNKNOWN\" \n",
    "\n",
    "    return sentiment_label"
   ]
  },
  {
   "cell_type": "code",
   "execution_count": null,
   "metadata": {},
   "outputs": [],
   "source": [
    "# TODO 7: Add code below for sentiment analysis\n",
    "# perform sentiment analysis on reviews and store results in new column\n",
    "review_sentiment = df['Review'].apply(lambda i: analyze_sentiment(i, sentiment_classifier))\n",
    "df['Sentiment'] = review_sentiment.apply(lambda x: x)"
   ]
  },
  {
   "cell_type": "code",
   "execution_count": null,
   "metadata": {},
   "outputs": [],
   "source": [
    "df.sample(10)"
   ]
  },
  {
   "cell_type": "code",
   "execution_count": null,
   "metadata": {},
   "outputs": [],
   "source": [
    "# export the results to a .csv file\n",
    "df.to_csv(\"result/reviews_with_sentiment.csv\", index=False)"
   ]
  }
 ],
 "metadata": {
  "kernelspec": {
   "display_name": "Python 3 (ipykernel)",
   "language": "python",
   "name": "python3"
  },
  "language_info": {
   "codemirror_mode": {
    "name": "ipython",
    "version": 3
   },
   "file_extension": ".py",
   "mimetype": "text/x-python",
   "name": "python",
   "nbconvert_exporter": "python",
   "pygments_lexer": "ipython3",
   "version": "3.10.12"
  }
 },
 "nbformat": 4,
 "nbformat_minor": 1
}
